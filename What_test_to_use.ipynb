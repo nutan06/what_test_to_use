{
 "cells": [
  {
   "cell_type": "code",
   "execution_count": 1,
   "metadata": {
    "collapsed": false
   },
   "outputs": [],
   "source": [
    "%matplotlib inline\n",
    "import pandas as pd\n",
    "import numpy as np\n",
    "import seaborn as sns\n",
    "from matplotlib import pyplot as plt\n",
    "from scipy import stats\n",
    "%matplotlib inline"
   ]
  },
  {
   "cell_type": "code",
   "execution_count": 2,
   "metadata": {
    "collapsed": true
   },
   "outputs": [],
   "source": [
    "#import csv\n",
    "ess_data = pd.read_csv(\"./ESSdata_Thinkful_1.4.8.csv\")\n",
    "df = pd.DataFrame(ess_data)"
   ]
  },
  {
   "cell_type": "code",
   "execution_count": 3,
   "metadata": {
    "collapsed": false
   },
   "outputs": [
    {
     "data": {
      "text/html": [
       "<div>\n",
       "<table border=\"1\" class=\"dataframe\">\n",
       "  <thead>\n",
       "    <tr style=\"text-align: right;\">\n",
       "      <th></th>\n",
       "      <th>cntry</th>\n",
       "      <th>idno</th>\n",
       "      <th>year</th>\n",
       "      <th>tvtot</th>\n",
       "      <th>ppltrst</th>\n",
       "      <th>pplfair</th>\n",
       "      <th>pplhlp</th>\n",
       "      <th>happy</th>\n",
       "      <th>sclmeet</th>\n",
       "      <th>sclact</th>\n",
       "      <th>gndr</th>\n",
       "      <th>agea</th>\n",
       "      <th>partner</th>\n",
       "    </tr>\n",
       "  </thead>\n",
       "  <tbody>\n",
       "    <tr>\n",
       "      <th>0</th>\n",
       "      <td>CH</td>\n",
       "      <td>5.0</td>\n",
       "      <td>6</td>\n",
       "      <td>3.0</td>\n",
       "      <td>3.0</td>\n",
       "      <td>10.0</td>\n",
       "      <td>5.0</td>\n",
       "      <td>8.0</td>\n",
       "      <td>5.0</td>\n",
       "      <td>4.0</td>\n",
       "      <td>2.0</td>\n",
       "      <td>60.0</td>\n",
       "      <td>1.0</td>\n",
       "    </tr>\n",
       "    <tr>\n",
       "      <th>1</th>\n",
       "      <td>CH</td>\n",
       "      <td>25.0</td>\n",
       "      <td>6</td>\n",
       "      <td>6.0</td>\n",
       "      <td>5.0</td>\n",
       "      <td>7.0</td>\n",
       "      <td>5.0</td>\n",
       "      <td>9.0</td>\n",
       "      <td>3.0</td>\n",
       "      <td>2.0</td>\n",
       "      <td>2.0</td>\n",
       "      <td>59.0</td>\n",
       "      <td>1.0</td>\n",
       "    </tr>\n",
       "    <tr>\n",
       "      <th>2</th>\n",
       "      <td>CH</td>\n",
       "      <td>26.0</td>\n",
       "      <td>6</td>\n",
       "      <td>1.0</td>\n",
       "      <td>8.0</td>\n",
       "      <td>8.0</td>\n",
       "      <td>8.0</td>\n",
       "      <td>7.0</td>\n",
       "      <td>6.0</td>\n",
       "      <td>3.0</td>\n",
       "      <td>1.0</td>\n",
       "      <td>24.0</td>\n",
       "      <td>2.0</td>\n",
       "    </tr>\n",
       "    <tr>\n",
       "      <th>3</th>\n",
       "      <td>CH</td>\n",
       "      <td>28.0</td>\n",
       "      <td>6</td>\n",
       "      <td>4.0</td>\n",
       "      <td>6.0</td>\n",
       "      <td>6.0</td>\n",
       "      <td>7.0</td>\n",
       "      <td>10.0</td>\n",
       "      <td>6.0</td>\n",
       "      <td>2.0</td>\n",
       "      <td>2.0</td>\n",
       "      <td>64.0</td>\n",
       "      <td>1.0</td>\n",
       "    </tr>\n",
       "    <tr>\n",
       "      <th>4</th>\n",
       "      <td>CH</td>\n",
       "      <td>29.0</td>\n",
       "      <td>6</td>\n",
       "      <td>5.0</td>\n",
       "      <td>6.0</td>\n",
       "      <td>7.0</td>\n",
       "      <td>5.0</td>\n",
       "      <td>8.0</td>\n",
       "      <td>7.0</td>\n",
       "      <td>2.0</td>\n",
       "      <td>2.0</td>\n",
       "      <td>55.0</td>\n",
       "      <td>1.0</td>\n",
       "    </tr>\n",
       "  </tbody>\n",
       "</table>\n",
       "</div>"
      ],
      "text/plain": [
       "  cntry  idno  year  tvtot  ppltrst  pplfair  pplhlp  happy  sclmeet  sclact  \\\n",
       "0    CH   5.0     6    3.0      3.0     10.0     5.0    8.0      5.0     4.0   \n",
       "1    CH  25.0     6    6.0      5.0      7.0     5.0    9.0      3.0     2.0   \n",
       "2    CH  26.0     6    1.0      8.0      8.0     8.0    7.0      6.0     3.0   \n",
       "3    CH  28.0     6    4.0      6.0      6.0     7.0   10.0      6.0     2.0   \n",
       "4    CH  29.0     6    5.0      6.0      7.0     5.0    8.0      7.0     2.0   \n",
       "\n",
       "   gndr  agea  partner  \n",
       "0   2.0  60.0      1.0  \n",
       "1   2.0  59.0      1.0  \n",
       "2   1.0  24.0      2.0  \n",
       "3   2.0  64.0      1.0  \n",
       "4   2.0  55.0      1.0  "
      ]
     },
     "execution_count": 3,
     "metadata": {},
     "output_type": "execute_result"
    }
   ],
   "source": [
    "ess_data.head()"
   ]
  },
  {
   "cell_type": "code",
   "execution_count": 4,
   "metadata": {
    "collapsed": false
   },
   "outputs": [
    {
     "data": {
      "text/plain": [
       "(8594, 13)"
      ]
     },
     "execution_count": 4,
     "metadata": {},
     "output_type": "execute_result"
    }
   ],
   "source": [
    "ess_data.shape"
   ]
  },
  {
   "cell_type": "code",
   "execution_count": 5,
   "metadata": {
    "collapsed": false
   },
   "outputs": [
    {
     "data": {
      "text/html": [
       "<div>\n",
       "<table border=\"1\" class=\"dataframe\">\n",
       "  <thead>\n",
       "    <tr style=\"text-align: right;\">\n",
       "      <th></th>\n",
       "      <th>cntry</th>\n",
       "      <th>idno</th>\n",
       "      <th>year</th>\n",
       "      <th>tvtot</th>\n",
       "      <th>ppltrst</th>\n",
       "      <th>pplfair</th>\n",
       "      <th>pplhlp</th>\n",
       "      <th>happy</th>\n",
       "      <th>sclmeet</th>\n",
       "      <th>sclact</th>\n",
       "      <th>gndr</th>\n",
       "      <th>agea</th>\n",
       "      <th>partner</th>\n",
       "    </tr>\n",
       "  </thead>\n",
       "  <tbody>\n",
       "    <tr>\n",
       "      <th>0</th>\n",
       "      <td>CH</td>\n",
       "      <td>1.480680e+03</td>\n",
       "      <td>6.5</td>\n",
       "      <td>3.103560</td>\n",
       "      <td>5.714748</td>\n",
       "      <td>6.285159</td>\n",
       "      <td>5.698834</td>\n",
       "      <td>8.102398</td>\n",
       "      <td>5.120623</td>\n",
       "      <td>2.743287</td>\n",
       "      <td>1.513583</td>\n",
       "      <td>46.743180</td>\n",
       "      <td>1.362872</td>\n",
       "    </tr>\n",
       "    <tr>\n",
       "      <th>1</th>\n",
       "      <td>CZ</td>\n",
       "      <td>1.445666e+03</td>\n",
       "      <td>6.5</td>\n",
       "      <td>4.913806</td>\n",
       "      <td>4.393731</td>\n",
       "      <td>4.931905</td>\n",
       "      <td>4.484363</td>\n",
       "      <td>6.842835</td>\n",
       "      <td>4.547328</td>\n",
       "      <td>2.658423</td>\n",
       "      <td>1.525268</td>\n",
       "      <td>46.301563</td>\n",
       "      <td>1.426606</td>\n",
       "    </tr>\n",
       "    <tr>\n",
       "      <th>2</th>\n",
       "      <td>DE</td>\n",
       "      <td>1.100048e+07</td>\n",
       "      <td>6.5</td>\n",
       "      <td>4.000000</td>\n",
       "      <td>5.285714</td>\n",
       "      <td>6.222222</td>\n",
       "      <td>5.444444</td>\n",
       "      <td>7.642857</td>\n",
       "      <td>4.714286</td>\n",
       "      <td>2.785714</td>\n",
       "      <td>1.571429</td>\n",
       "      <td>55.892857</td>\n",
       "      <td>1.250000</td>\n",
       "    </tr>\n",
       "    <tr>\n",
       "      <th>3</th>\n",
       "      <td>ES</td>\n",
       "      <td>1.467607e+03</td>\n",
       "      <td>6.5</td>\n",
       "      <td>3.996701</td>\n",
       "      <td>5.004950</td>\n",
       "      <td>5.347303</td>\n",
       "      <td>4.537443</td>\n",
       "      <td>7.484323</td>\n",
       "      <td>5.244426</td>\n",
       "      <td>2.588358</td>\n",
       "      <td>1.504534</td>\n",
       "      <td>47.874576</td>\n",
       "      <td>1.385537</td>\n",
       "    </tr>\n",
       "    <tr>\n",
       "      <th>4</th>\n",
       "      <td>NO</td>\n",
       "      <td>1.430671e+04</td>\n",
       "      <td>6.5</td>\n",
       "      <td>3.771546</td>\n",
       "      <td>6.623973</td>\n",
       "      <td>6.894376</td>\n",
       "      <td>6.043240</td>\n",
       "      <td>8.082990</td>\n",
       "      <td>5.416553</td>\n",
       "      <td>2.912148</td>\n",
       "      <td>1.466484</td>\n",
       "      <td>46.536212</td>\n",
       "      <td>1.369431</td>\n",
       "    </tr>\n",
       "    <tr>\n",
       "      <th>5</th>\n",
       "      <td>SE</td>\n",
       "      <td>1.765173e+03</td>\n",
       "      <td>6.5</td>\n",
       "      <td>3.638567</td>\n",
       "      <td>6.158214</td>\n",
       "      <td>6.697790</td>\n",
       "      <td>6.061224</td>\n",
       "      <td>7.927152</td>\n",
       "      <td>5.477135</td>\n",
       "      <td>2.898671</td>\n",
       "      <td>1.476872</td>\n",
       "      <td>49.040046</td>\n",
       "      <td>1.387115</td>\n",
       "    </tr>\n",
       "  </tbody>\n",
       "</table>\n",
       "</div>"
      ],
      "text/plain": [
       "  cntry          idno  year     tvtot   ppltrst   pplfair    pplhlp     happy  \\\n",
       "0    CH  1.480680e+03   6.5  3.103560  5.714748  6.285159  5.698834  8.102398   \n",
       "1    CZ  1.445666e+03   6.5  4.913806  4.393731  4.931905  4.484363  6.842835   \n",
       "2    DE  1.100048e+07   6.5  4.000000  5.285714  6.222222  5.444444  7.642857   \n",
       "3    ES  1.467607e+03   6.5  3.996701  5.004950  5.347303  4.537443  7.484323   \n",
       "4    NO  1.430671e+04   6.5  3.771546  6.623973  6.894376  6.043240  8.082990   \n",
       "5    SE  1.765173e+03   6.5  3.638567  6.158214  6.697790  6.061224  7.927152   \n",
       "\n",
       "    sclmeet    sclact      gndr       agea   partner  \n",
       "0  5.120623  2.743287  1.513583  46.743180  1.362872  \n",
       "1  4.547328  2.658423  1.525268  46.301563  1.426606  \n",
       "2  4.714286  2.785714  1.571429  55.892857  1.250000  \n",
       "3  5.244426  2.588358  1.504534  47.874576  1.385537  \n",
       "4  5.416553  2.912148  1.466484  46.536212  1.369431  \n",
       "5  5.477135  2.898671  1.476872  49.040046  1.387115  "
      ]
     },
     "execution_count": 5,
     "metadata": {},
     "output_type": "execute_result"
    }
   ],
   "source": [
    "ess_data.groupby(['cntry'],as_index = False).mean()\n",
    "#appendix.groupby(['Institution'], as_index = False).mean()"
   ]
  },
  {
   "cell_type": "markdown",
   "metadata": {},
   "source": [
    "Let us convert the year from 6 and 7 to 2012 and 2014"
   ]
  },
  {
   "cell_type": "code",
   "execution_count": 6,
   "metadata": {
    "collapsed": true
   },
   "outputs": [],
   "source": [
    "def convert_date(value):\n",
    "    if value == 6:\n",
    "        return 2012\n",
    "    elif value == 7:\n",
    "        return 2014\n",
    "     \n",
    "ess_data['year'] = ess_data['year'].apply(convert_date)"
   ]
  },
  {
   "cell_type": "code",
   "execution_count": 7,
   "metadata": {
    "collapsed": false
   },
   "outputs": [
    {
     "data": {
      "text/html": [
       "<div>\n",
       "<table border=\"1\" class=\"dataframe\">\n",
       "  <thead>\n",
       "    <tr style=\"text-align: right;\">\n",
       "      <th></th>\n",
       "      <th>cntry</th>\n",
       "      <th>idno</th>\n",
       "      <th>year</th>\n",
       "      <th>tvtot</th>\n",
       "      <th>ppltrst</th>\n",
       "      <th>pplfair</th>\n",
       "      <th>pplhlp</th>\n",
       "      <th>happy</th>\n",
       "      <th>sclmeet</th>\n",
       "      <th>sclact</th>\n",
       "      <th>gndr</th>\n",
       "      <th>agea</th>\n",
       "      <th>partner</th>\n",
       "    </tr>\n",
       "  </thead>\n",
       "  <tbody>\n",
       "    <tr>\n",
       "      <th>0</th>\n",
       "      <td>CH</td>\n",
       "      <td>5.0</td>\n",
       "      <td>2012</td>\n",
       "      <td>3.0</td>\n",
       "      <td>3.0</td>\n",
       "      <td>10.0</td>\n",
       "      <td>5.0</td>\n",
       "      <td>8.0</td>\n",
       "      <td>5.0</td>\n",
       "      <td>4.0</td>\n",
       "      <td>2.0</td>\n",
       "      <td>60.0</td>\n",
       "      <td>1.0</td>\n",
       "    </tr>\n",
       "    <tr>\n",
       "      <th>1</th>\n",
       "      <td>CH</td>\n",
       "      <td>25.0</td>\n",
       "      <td>2012</td>\n",
       "      <td>6.0</td>\n",
       "      <td>5.0</td>\n",
       "      <td>7.0</td>\n",
       "      <td>5.0</td>\n",
       "      <td>9.0</td>\n",
       "      <td>3.0</td>\n",
       "      <td>2.0</td>\n",
       "      <td>2.0</td>\n",
       "      <td>59.0</td>\n",
       "      <td>1.0</td>\n",
       "    </tr>\n",
       "    <tr>\n",
       "      <th>2</th>\n",
       "      <td>CH</td>\n",
       "      <td>26.0</td>\n",
       "      <td>2012</td>\n",
       "      <td>1.0</td>\n",
       "      <td>8.0</td>\n",
       "      <td>8.0</td>\n",
       "      <td>8.0</td>\n",
       "      <td>7.0</td>\n",
       "      <td>6.0</td>\n",
       "      <td>3.0</td>\n",
       "      <td>1.0</td>\n",
       "      <td>24.0</td>\n",
       "      <td>2.0</td>\n",
       "    </tr>\n",
       "    <tr>\n",
       "      <th>3</th>\n",
       "      <td>CH</td>\n",
       "      <td>28.0</td>\n",
       "      <td>2012</td>\n",
       "      <td>4.0</td>\n",
       "      <td>6.0</td>\n",
       "      <td>6.0</td>\n",
       "      <td>7.0</td>\n",
       "      <td>10.0</td>\n",
       "      <td>6.0</td>\n",
       "      <td>2.0</td>\n",
       "      <td>2.0</td>\n",
       "      <td>64.0</td>\n",
       "      <td>1.0</td>\n",
       "    </tr>\n",
       "    <tr>\n",
       "      <th>4</th>\n",
       "      <td>CH</td>\n",
       "      <td>29.0</td>\n",
       "      <td>2012</td>\n",
       "      <td>5.0</td>\n",
       "      <td>6.0</td>\n",
       "      <td>7.0</td>\n",
       "      <td>5.0</td>\n",
       "      <td>8.0</td>\n",
       "      <td>7.0</td>\n",
       "      <td>2.0</td>\n",
       "      <td>2.0</td>\n",
       "      <td>55.0</td>\n",
       "      <td>1.0</td>\n",
       "    </tr>\n",
       "  </tbody>\n",
       "</table>\n",
       "</div>"
      ],
      "text/plain": [
       "  cntry  idno  year  tvtot  ppltrst  pplfair  pplhlp  happy  sclmeet  sclact  \\\n",
       "0    CH   5.0  2012    3.0      3.0     10.0     5.0    8.0      5.0     4.0   \n",
       "1    CH  25.0  2012    6.0      5.0      7.0     5.0    9.0      3.0     2.0   \n",
       "2    CH  26.0  2012    1.0      8.0      8.0     8.0    7.0      6.0     3.0   \n",
       "3    CH  28.0  2012    4.0      6.0      6.0     7.0   10.0      6.0     2.0   \n",
       "4    CH  29.0  2012    5.0      6.0      7.0     5.0    8.0      7.0     2.0   \n",
       "\n",
       "   gndr  agea  partner  \n",
       "0   2.0  60.0      1.0  \n",
       "1   2.0  59.0      1.0  \n",
       "2   1.0  24.0      2.0  \n",
       "3   2.0  64.0      1.0  \n",
       "4   2.0  55.0      1.0  "
      ]
     },
     "execution_count": 7,
     "metadata": {},
     "output_type": "execute_result"
    }
   ],
   "source": [
    "ess_data.head()"
   ]
  },
  {
   "cell_type": "markdown",
   "metadata": {},
   "source": [
    "After grouping we got 6 different countries.Let us form dataset foe each of the country."
   ]
  },
  {
   "cell_type": "code",
   "execution_count": 8,
   "metadata": {
    "collapsed": true
   },
   "outputs": [],
   "source": [
    "Switzerland_df = ess_data[ess_data['cntry'] == 'CH']\n",
    "CzechRepublic_df = ess_data[ess_data['cntry'] == 'CZ']\n",
    "Spain_df = ess_data[ess_data['cntry'] == 'ES']\n",
    "Norway_df = ess_data[ess_data['cntry'] == 'NO']\n",
    "Sweden_df = ess_data[ess_data['cntry'] == 'SE']\n",
    "Germany_df = ess_data[ess_data['cntry'] == 'DE']"
   ]
  },
  {
   "cell_type": "markdown",
   "metadata": {},
   "source": [
    "## 1.Did people become less trusting from 2012 to 2014? Compute results for each country in the sample."
   ]
  },
  {
   "cell_type": "code",
   "execution_count": 9,
   "metadata": {
    "collapsed": false
   },
   "outputs": [
    {
     "data": {
      "text/html": [
       "<div>\n",
       "<table border=\"1\" class=\"dataframe\">\n",
       "  <thead>\n",
       "    <tr style=\"text-align: right;\">\n",
       "      <th></th>\n",
       "      <th>cntry</th>\n",
       "      <th>idno</th>\n",
       "      <th>year</th>\n",
       "      <th>tvtot</th>\n",
       "      <th>ppltrst</th>\n",
       "      <th>pplfair</th>\n",
       "      <th>pplhlp</th>\n",
       "      <th>happy</th>\n",
       "      <th>sclmeet</th>\n",
       "      <th>sclact</th>\n",
       "      <th>gndr</th>\n",
       "      <th>agea</th>\n",
       "      <th>partner</th>\n",
       "    </tr>\n",
       "  </thead>\n",
       "  <tbody>\n",
       "    <tr>\n",
       "      <th>0</th>\n",
       "      <td>CH</td>\n",
       "      <td>5.0</td>\n",
       "      <td>2012</td>\n",
       "      <td>3.0</td>\n",
       "      <td>3.0</td>\n",
       "      <td>10.0</td>\n",
       "      <td>5.0</td>\n",
       "      <td>8.0</td>\n",
       "      <td>5.0</td>\n",
       "      <td>4.0</td>\n",
       "      <td>2.0</td>\n",
       "      <td>60.0</td>\n",
       "      <td>1.0</td>\n",
       "    </tr>\n",
       "    <tr>\n",
       "      <th>1</th>\n",
       "      <td>CH</td>\n",
       "      <td>25.0</td>\n",
       "      <td>2012</td>\n",
       "      <td>6.0</td>\n",
       "      <td>5.0</td>\n",
       "      <td>7.0</td>\n",
       "      <td>5.0</td>\n",
       "      <td>9.0</td>\n",
       "      <td>3.0</td>\n",
       "      <td>2.0</td>\n",
       "      <td>2.0</td>\n",
       "      <td>59.0</td>\n",
       "      <td>1.0</td>\n",
       "    </tr>\n",
       "    <tr>\n",
       "      <th>2</th>\n",
       "      <td>CH</td>\n",
       "      <td>26.0</td>\n",
       "      <td>2012</td>\n",
       "      <td>1.0</td>\n",
       "      <td>8.0</td>\n",
       "      <td>8.0</td>\n",
       "      <td>8.0</td>\n",
       "      <td>7.0</td>\n",
       "      <td>6.0</td>\n",
       "      <td>3.0</td>\n",
       "      <td>1.0</td>\n",
       "      <td>24.0</td>\n",
       "      <td>2.0</td>\n",
       "    </tr>\n",
       "    <tr>\n",
       "      <th>3</th>\n",
       "      <td>CH</td>\n",
       "      <td>28.0</td>\n",
       "      <td>2012</td>\n",
       "      <td>4.0</td>\n",
       "      <td>6.0</td>\n",
       "      <td>6.0</td>\n",
       "      <td>7.0</td>\n",
       "      <td>10.0</td>\n",
       "      <td>6.0</td>\n",
       "      <td>2.0</td>\n",
       "      <td>2.0</td>\n",
       "      <td>64.0</td>\n",
       "      <td>1.0</td>\n",
       "    </tr>\n",
       "    <tr>\n",
       "      <th>4</th>\n",
       "      <td>CH</td>\n",
       "      <td>29.0</td>\n",
       "      <td>2012</td>\n",
       "      <td>5.0</td>\n",
       "      <td>6.0</td>\n",
       "      <td>7.0</td>\n",
       "      <td>5.0</td>\n",
       "      <td>8.0</td>\n",
       "      <td>7.0</td>\n",
       "      <td>2.0</td>\n",
       "      <td>2.0</td>\n",
       "      <td>55.0</td>\n",
       "      <td>1.0</td>\n",
       "    </tr>\n",
       "  </tbody>\n",
       "</table>\n",
       "</div>"
      ],
      "text/plain": [
       "  cntry  idno  year  tvtot  ppltrst  pplfair  pplhlp  happy  sclmeet  sclact  \\\n",
       "0    CH   5.0  2012    3.0      3.0     10.0     5.0    8.0      5.0     4.0   \n",
       "1    CH  25.0  2012    6.0      5.0      7.0     5.0    9.0      3.0     2.0   \n",
       "2    CH  26.0  2012    1.0      8.0      8.0     8.0    7.0      6.0     3.0   \n",
       "3    CH  28.0  2012    4.0      6.0      6.0     7.0   10.0      6.0     2.0   \n",
       "4    CH  29.0  2012    5.0      6.0      7.0     5.0    8.0      7.0     2.0   \n",
       "\n",
       "   gndr  agea  partner  \n",
       "0   2.0  60.0      1.0  \n",
       "1   2.0  59.0      1.0  \n",
       "2   1.0  24.0      2.0  \n",
       "3   2.0  64.0      1.0  \n",
       "4   2.0  55.0      1.0  "
      ]
     },
     "execution_count": 9,
     "metadata": {},
     "output_type": "execute_result"
    }
   ],
   "source": [
    "Switzerland_df.head()"
   ]
  },
  {
   "cell_type": "markdown",
   "metadata": {},
   "source": [
    "### Switzerland"
   ]
  },
  {
   "cell_type": "code",
   "execution_count": 10,
   "metadata": {
    "collapsed": false
   },
   "outputs": [
    {
     "data": {
      "image/png": "[encoded data removed]",
      "text/plain": [
       "<matplotlib.figure.Figure at 0x1e7060b7b00>"
      ]
     },
     "metadata": {},
     "output_type": "display_data"
    }
   ],
   "source": [
    "sns.boxplot(y=\"ppltrst\", x=\"year\", data=Switzerland_df)\n",
    "sns.plt.title('Switzerland Results for Trusting of Others Survey')\n",
    "plt.show()"
   ]
  },
  {
   "cell_type": "code",
   "execution_count": 11,
   "metadata": {
    "collapsed": false
   },
   "outputs": [
    {
     "data": {
      "text/plain": [
       "KruskalResult(statistic=0.30163599644480188, pvalue=0.58285861114420479)"
      ]
     },
     "execution_count": 11,
     "metadata": {},
     "output_type": "execute_result"
    }
   ],
   "source": [
    "stats.kruskal(Switzerland_df.query('year == 2012').ppltrst,\n",
    "              Switzerland_df.query('year == 2014').ppltrst)"
   ]
  },
  {
   "cell_type": "markdown",
   "metadata": {},
   "source": [
    "### CzechRepublic"
   ]
  },
  {
   "cell_type": "code",
   "execution_count": 12,
   "metadata": {
    "collapsed": false
   },
   "outputs": [
    {
     "data": {
      "image/png": "[encoded data removed]",
      "text/plain": [
       "<matplotlib.figure.Figure at 0x1e7064f7550>"
      ]
     },
     "metadata": {},
     "output_type": "display_data"
    }
   ],
   "source": [
    "sns.boxplot(y=\"ppltrst\", x=\"year\", data=CzechRepublic_df)\n",
    "sns.plt.title('CzechRepublic Results for Trusting of Others Survey')\n",
    "plt.show()"
   ]
  },
  {
   "cell_type": "code",
   "execution_count": 13,
   "metadata": {
    "collapsed": false
   },
   "outputs": [
    {
     "data": {
      "text/plain": [
       "KruskalResult(statistic=0.72115913853012281, pvalue=0.39576395374563522)"
      ]
     },
     "execution_count": 13,
     "metadata": {},
     "output_type": "execute_result"
    }
   ],
   "source": [
    "stats.kruskal(CzechRepublic_df.query('year == 2012').ppltrst,\n",
    "              CzechRepublic_df.query('year == 2014').ppltrst, nan_policy='omit')"
   ]
  },
  {
   "cell_type": "markdown",
   "metadata": {},
   "source": [
    "### Spain"
   ]
  },
  {
   "cell_type": "code",
   "execution_count": 14,
   "metadata": {
    "collapsed": false
   },
   "outputs": [
    {
     "data": {
      "image/png": "[encoded data removed]",
      "text/plain": [
       "<matplotlib.figure.Figure at 0x1e706522908>"
      ]
     },
     "metadata": {},
     "output_type": "display_data"
    }
   ],
   "source": [
    "sns.boxplot(y=\"ppltrst\", x=\"year\", data=Spain_df)\n",
    "sns.plt.title('Spain Results for Trusting of Others Survey')\n",
    "plt.show()"
   ]
  },
  {
   "cell_type": "code",
   "execution_count": 15,
   "metadata": {
    "collapsed": false
   },
   "outputs": [
    {
     "data": {
      "text/plain": [
       "KruskalResult(statistic=8.216087354735361, pvalue=0.0041520627675982)"
      ]
     },
     "execution_count": 15,
     "metadata": {},
     "output_type": "execute_result"
    }
   ],
   "source": [
    "stats.kruskal(Spain_df.query('year == 2012').ppltrst,\n",
    "              Spain_df.query('year == 2014').ppltrst, nan_policy='omit')"
   ]
  },
  {
   "cell_type": "markdown",
   "metadata": {},
   "source": [
    "### Norway"
   ]
  },
  {
   "cell_type": "code",
   "execution_count": 16,
   "metadata": {
    "collapsed": false
   },
   "outputs": [
    {
     "data": {
      "image/png": "[encoded data removed]",
      "text/plain": [
       "<matplotlib.figure.Figure at 0x1e7065b6b70>"
      ]
     },
     "metadata": {},
     "output_type": "display_data"
    }
   ],
   "source": [
    "sns.boxplot(y=\"ppltrst\", x=\"year\", data=Norway_df)\n",
    "sns.plt.title('Norway Results for Trusting of Others Survey')\n",
    "plt.show()"
   ]
  },
  {
   "cell_type": "code",
   "execution_count": 17,
   "metadata": {
    "collapsed": false
   },
   "outputs": [
    {
     "data": {
      "text/plain": [
       "KruskalResult(statistic=0.24473874253133701, pvalue=0.62080430049698654)"
      ]
     },
     "execution_count": 17,
     "metadata": {},
     "output_type": "execute_result"
    }
   ],
   "source": [
    "stats.kruskal(Norway_df.query('year == 2012').ppltrst,\n",
    "              Norway_df.query('year == 2014').ppltrst, nan_policy='omit')"
   ]
  },
  {
   "cell_type": "markdown",
   "metadata": {},
   "source": [
    "### Sweden"
   ]
  },
  {
   "cell_type": "code",
   "execution_count": 18,
   "metadata": {
    "collapsed": false
   },
   "outputs": [
    {
     "data": {
      "image/png": "[encoded data removed]",
      "text/plain": [
       "<matplotlib.figure.Figure at 0x1e706643390>"
      ]
     },
     "metadata": {},
     "output_type": "display_data"
    }
   ],
   "source": [
    "sns.boxplot(y=\"ppltrst\", x=\"year\", data=Sweden_df)\n",
    "sns.plt.title('Sweden Results for Trusting of Others Survey')\n",
    "plt.show()"
   ]
  },
  {
   "cell_type": "code",
   "execution_count": 19,
   "metadata": {
    "collapsed": false
   },
   "outputs": [
    {
     "data": {
      "text/plain": [
       "KruskalResult(statistic=4.2412547110440508, pvalue=0.03945299959307013)"
      ]
     },
     "execution_count": 19,
     "metadata": {},
     "output_type": "execute_result"
    }
   ],
   "source": [
    "stats.kruskal(Sweden_df.query('year == 2012').ppltrst,\n",
    "              Sweden_df.query('year == 2014').ppltrst, nan_policy='omit')"
   ]
  },
  {
   "cell_type": "markdown",
   "metadata": {},
   "source": [
    "### Germany"
   ]
  },
  {
   "cell_type": "code",
   "execution_count": 20,
   "metadata": {
    "collapsed": false
   },
   "outputs": [
    {
     "data": {
      "image/png": "[encoded data removed]",
      "text/plain": [
       "<matplotlib.figure.Figure at 0x1e70672a9e8>"
      ]
     },
     "metadata": {},
     "output_type": "display_data"
    }
   ],
   "source": [
    "sns.boxplot(y=\"ppltrst\", x=\"year\", data=Germany_df)\n",
    "sns.plt.title('Germany Results for Trusting of Others Survey')\n",
    "plt.show()"
   ]
  },
  {
   "cell_type": "markdown",
   "metadata": {
    "collapsed": true
   },
   "source": [
    "We found the difference in results only in Spain."
   ]
  },
  {
   "cell_type": "markdown",
   "metadata": {},
   "source": [
    "## 2.Did people become happier from 2012 to 2014? Compute results for each country in the sample."
   ]
  },
  {
   "cell_type": "markdown",
   "metadata": {},
   "source": [
    "### Switzerland"
   ]
  },
  {
   "cell_type": "code",
   "execution_count": 21,
   "metadata": {
    "collapsed": false
   },
   "outputs": [
    {
     "data": {
      "image/png": "[encoded data removed]",
      "text/plain": [
       "<matplotlib.figure.Figure at 0x1e7067af128>"
      ]
     },
     "metadata": {},
     "output_type": "display_data"
    }
   ],
   "source": [
    "sns.boxplot(y=\"happy\", x=\"year\", data=Switzerland_df)\n",
    "sns.plt.title('Switzerland Results for How happy are you Survey')\n",
    "plt.show()"
   ]
  },
  {
   "cell_type": "code",
   "execution_count": 22,
   "metadata": {
    "collapsed": false
   },
   "outputs": [
    {
     "data": {
      "text/plain": [
       "KruskalResult(statistic=0.22331955287588717, pvalue=0.63652214320425471)"
      ]
     },
     "execution_count": 22,
     "metadata": {},
     "output_type": "execute_result"
    }
   ],
   "source": [
    "stats.kruskal(Switzerland_df.query('year == 2012').happy,\n",
    "              Switzerland_df.query('year == 2014').happy, nan_policy='omit')"
   ]
  },
  {
   "cell_type": "markdown",
   "metadata": {},
   "source": [
    "### CzechRepublic"
   ]
  },
  {
   "cell_type": "code",
   "execution_count": 23,
   "metadata": {
    "collapsed": false
   },
   "outputs": [
    {
     "data": {
      "image/png": "[encoded data removed]",
      "text/plain": [
       "<matplotlib.figure.Figure at 0x1e7067c9cf8>"
      ]
     },
     "metadata": {},
     "output_type": "display_data"
    }
   ],
   "source": [
    "sns.boxplot(y=\"happy\", x=\"year\", data=CzechRepublic_df)\n",
    "sns.plt.title('CzechRepublic Results for How happy are you Survey')\n",
    "plt.show()"
   ]
  },
  {
   "cell_type": "code",
   "execution_count": 24,
   "metadata": {
    "collapsed": false
   },
   "outputs": [
    {
     "data": {
      "text/plain": [
       "KruskalResult(statistic=1.4258218687180508, pvalue=0.23244752383800671)"
      ]
     },
     "execution_count": 24,
     "metadata": {},
     "output_type": "execute_result"
    }
   ],
   "source": [
    "stats.kruskal(CzechRepublic_df.query('year == 2012').happy,\n",
    "              CzechRepublic_df.query('year == 2014').happy, nan_policy='omit')"
   ]
  },
  {
   "cell_type": "markdown",
   "metadata": {},
   "source": [
    "### Spain"
   ]
  },
  {
   "cell_type": "code",
   "execution_count": 25,
   "metadata": {
    "collapsed": false
   },
   "outputs": [
    {
     "data": {
      "image/png": "[encoded data removed]",
      "text/plain": [
       "<matplotlib.figure.Figure at 0x1e707884d30>"
      ]
     },
     "metadata": {},
     "output_type": "display_data"
    }
   ],
   "source": [
    "sns.boxplot(y=\"happy\", x=\"year\", data=Spain_df)\n",
    "sns.plt.title('Spain Results for How happy are you Survey')\n",
    "plt.show()"
   ]
  },
  {
   "cell_type": "code",
   "execution_count": 26,
   "metadata": {
    "collapsed": false
   },
   "outputs": [
    {
     "data": {
      "text/plain": [
       "KruskalResult(statistic=4.0892036411772681, pvalue=0.043157971896250848)"
      ]
     },
     "execution_count": 26,
     "metadata": {},
     "output_type": "execute_result"
    }
   ],
   "source": [
    "stats.kruskal(Spain_df.query('year == 2012').happy,\n",
    "              Spain_df.query('year == 2014').happy, nan_policy='omit')"
   ]
  },
  {
   "cell_type": "markdown",
   "metadata": {},
   "source": [
    "### Norway"
   ]
  },
  {
   "cell_type": "code",
   "execution_count": 27,
   "metadata": {
    "collapsed": false
   },
   "outputs": [
    {
     "data": {
      "image/png": "[encoded data removed]",
      "text/plain": [
       "<matplotlib.figure.Figure at 0x1e706885278>"
      ]
     },
     "metadata": {},
     "output_type": "display_data"
    }
   ],
   "source": [
    "sns.boxplot(y=\"happy\", x=\"year\", data=Norway_df)\n",
    "sns.plt.title('Norway Results for How happy are you Survey')\n",
    "plt.show()"
   ]
  },
  {
   "cell_type": "code",
   "execution_count": 28,
   "metadata": {
    "collapsed": false
   },
   "outputs": [
    {
     "data": {
      "text/plain": [
       "KruskalResult(statistic=19.139561932891844, pvalue=1.215001301639077e-05)"
      ]
     },
     "execution_count": 28,
     "metadata": {},
     "output_type": "execute_result"
    }
   ],
   "source": [
    "stats.kruskal(Norway_df.query('year == 2012').happy,\n",
    "              Norway_df.query('year == 2014').happy, nan_policy='omit')"
   ]
  },
  {
   "cell_type": "markdown",
   "metadata": {},
   "source": [
    "### Sweden"
   ]
  },
  {
   "cell_type": "code",
   "execution_count": 29,
   "metadata": {
    "collapsed": false
   },
   "outputs": [
    {
     "data": {
      "image/png": "[encoded data removed]",
      "text/plain": [
       "<matplotlib.figure.Figure at 0x1e707983b38>"
      ]
     },
     "metadata": {},
     "output_type": "display_data"
    }
   ],
   "source": [
    "sns.boxplot(y=\"happy\", x=\"year\", data=Sweden_df)\n",
    "sns.plt.title('Sweden Results for How happy are you Survey')\n",
    "plt.show()"
   ]
  },
  {
   "cell_type": "code",
   "execution_count": 30,
   "metadata": {
    "collapsed": false
   },
   "outputs": [
    {
     "data": {
      "text/plain": [
       "KruskalResult(statistic=0.050457345200528352, pvalue=0.82226936153714048)"
      ]
     },
     "execution_count": 30,
     "metadata": {},
     "output_type": "execute_result"
    }
   ],
   "source": [
    "stats.kruskal(Sweden_df.query('year == 2012').happy,\n",
    "              Sweden_df.query('year == 2014').happy, nan_policy='omit')"
   ]
  },
  {
   "cell_type": "markdown",
   "metadata": {},
   "source": [
    "### Germany"
   ]
  },
  {
   "cell_type": "code",
   "execution_count": 31,
   "metadata": {
    "collapsed": false
   },
   "outputs": [
    {
     "data": {
      "image/png": "[encoded data removed]",
      "text/plain": [
       "<matplotlib.figure.Figure at 0x1e707a05908>"
      ]
     },
     "metadata": {},
     "output_type": "display_data"
    }
   ],
   "source": [
    "sns.boxplot(y=\"happy\", x=\"year\", data=Germany_df)\n",
    "sns.plt.title('Germany Results for How happy are you Survey')\n",
    "plt.show()"
   ]
  },
  {
   "cell_type": "code",
   "execution_count": 32,
   "metadata": {
    "collapsed": false
   },
   "outputs": [
    {
     "data": {
      "text/plain": [
       "KruskalResult(statistic=0.39056749122656015, pvalue=0.53200125505866203)"
      ]
     },
     "execution_count": 32,
     "metadata": {},
     "output_type": "execute_result"
    }
   ],
   "source": [
    "stats.kruskal(Germany_df.query('year == 2012').happy,\n",
    "              Germany_df.query('year == 2014').happy, nan_policy='omit')"
   ]
  },
  {
   "cell_type": "markdown",
   "metadata": {},
   "source": [
    "People in Norway were less happy in 2012 as compared to other countries."
   ]
  },
  {
   "cell_type": "markdown",
   "metadata": {},
   "source": [
    "## 3. Who reported watching more TV in 2012, men or women?"
   ]
  },
  {
   "cell_type": "code",
   "execution_count": 33,
   "metadata": {
    "collapsed": false
   },
   "outputs": [
    {
     "name": "stderr",
     "output_type": "stream",
     "text": [
      "C:\\Users\\NutanMandale\\Anaconda3\\lib\\site-packages\\numpy\\lib\\function_base.py:3834: RuntimeWarning: Invalid value encountered in percentile\n",
      "  RuntimeWarning)\n"
     ]
    },
    {
     "data": {
      "text/html": [
       "<div>\n",
       "<table border=\"1\" class=\"dataframe\">\n",
       "  <thead>\n",
       "    <tr style=\"text-align: right;\">\n",
       "      <th></th>\n",
       "      <th></th>\n",
       "      <th></th>\n",
       "      <th>agea</th>\n",
       "      <th>happy</th>\n",
       "      <th>idno</th>\n",
       "      <th>partner</th>\n",
       "      <th>pplfair</th>\n",
       "      <th>pplhlp</th>\n",
       "      <th>ppltrst</th>\n",
       "      <th>sclact</th>\n",
       "      <th>sclmeet</th>\n",
       "      <th>tvtot</th>\n",
       "    </tr>\n",
       "    <tr>\n",
       "      <th>gndr</th>\n",
       "      <th>year</th>\n",
       "      <th></th>\n",
       "      <th></th>\n",
       "      <th></th>\n",
       "      <th></th>\n",
       "      <th></th>\n",
       "      <th></th>\n",
       "      <th></th>\n",
       "      <th></th>\n",
       "      <th></th>\n",
       "      <th></th>\n",
       "      <th></th>\n",
       "    </tr>\n",
       "  </thead>\n",
       "  <tbody>\n",
       "    <tr>\n",
       "      <th rowspan=\"16\" valign=\"top\">1.0</th>\n",
       "      <th rowspan=\"8\" valign=\"top\">2012</th>\n",
       "      <th>count</th>\n",
       "      <td>2089.000000</td>\n",
       "      <td>2145.000000</td>\n",
       "      <td>2.154000e+03</td>\n",
       "      <td>2152.000000</td>\n",
       "      <td>2145.000000</td>\n",
       "      <td>2146.000000</td>\n",
       "      <td>2152.000000</td>\n",
       "      <td>2132.000000</td>\n",
       "      <td>2151.000000</td>\n",
       "      <td>2151.000000</td>\n",
       "    </tr>\n",
       "    <tr>\n",
       "      <th>mean</th>\n",
       "      <td>46.965055</td>\n",
       "      <td>7.744522</td>\n",
       "      <td>3.447705e+04</td>\n",
       "      <td>1.353625</td>\n",
       "      <td>5.947786</td>\n",
       "      <td>5.291240</td>\n",
       "      <td>5.629182</td>\n",
       "      <td>2.779550</td>\n",
       "      <td>5.228266</td>\n",
       "      <td>3.901906</td>\n",
       "    </tr>\n",
       "    <tr>\n",
       "      <th>std</th>\n",
       "      <td>17.969622</td>\n",
       "      <td>1.722329</td>\n",
       "      <td>5.797237e+05</td>\n",
       "      <td>0.478205</td>\n",
       "      <td>2.128799</td>\n",
       "      <td>2.173261</td>\n",
       "      <td>2.206040</td>\n",
       "      <td>0.917116</td>\n",
       "      <td>1.466672</td>\n",
       "      <td>1.983690</td>\n",
       "    </tr>\n",
       "    <tr>\n",
       "      <th>min</th>\n",
       "      <td>15.000000</td>\n",
       "      <td>0.000000</td>\n",
       "      <td>1.000000e+01</td>\n",
       "      <td>1.000000</td>\n",
       "      <td>0.000000</td>\n",
       "      <td>0.000000</td>\n",
       "      <td>0.000000</td>\n",
       "      <td>1.000000</td>\n",
       "      <td>1.000000</td>\n",
       "      <td>0.000000</td>\n",
       "    </tr>\n",
       "    <tr>\n",
       "      <th>25%</th>\n",
       "      <td>NaN</td>\n",
       "      <td>NaN</td>\n",
       "      <td>1.057250e+03</td>\n",
       "      <td>NaN</td>\n",
       "      <td>NaN</td>\n",
       "      <td>NaN</td>\n",
       "      <td>NaN</td>\n",
       "      <td>NaN</td>\n",
       "      <td>NaN</td>\n",
       "      <td>NaN</td>\n",
       "    </tr>\n",
       "    <tr>\n",
       "      <th>50%</th>\n",
       "      <td>NaN</td>\n",
       "      <td>NaN</td>\n",
       "      <td>1.800000e+03</td>\n",
       "      <td>NaN</td>\n",
       "      <td>NaN</td>\n",
       "      <td>NaN</td>\n",
       "      <td>NaN</td>\n",
       "      <td>NaN</td>\n",
       "      <td>NaN</td>\n",
       "      <td>NaN</td>\n",
       "    </tr>\n",
       "    <tr>\n",
       "      <th>75%</th>\n",
       "      <td>NaN</td>\n",
       "      <td>NaN</td>\n",
       "      <td>2.799750e+03</td>\n",
       "      <td>NaN</td>\n",
       "      <td>NaN</td>\n",
       "      <td>NaN</td>\n",
       "      <td>NaN</td>\n",
       "      <td>NaN</td>\n",
       "      <td>NaN</td>\n",
       "      <td>NaN</td>\n",
       "    </tr>\n",
       "    <tr>\n",
       "      <th>max</th>\n",
       "      <td>103.000000</td>\n",
       "      <td>10.000000</td>\n",
       "      <td>1.100140e+07</td>\n",
       "      <td>2.000000</td>\n",
       "      <td>10.000000</td>\n",
       "      <td>10.000000</td>\n",
       "      <td>10.000000</td>\n",
       "      <td>5.000000</td>\n",
       "      <td>7.000000</td>\n",
       "      <td>7.000000</td>\n",
       "    </tr>\n",
       "    <tr>\n",
       "      <th rowspan=\"8\" valign=\"top\">2014</th>\n",
       "      <th>count</th>\n",
       "      <td>2102.000000</td>\n",
       "      <td>2159.000000</td>\n",
       "      <td>2.162000e+03</td>\n",
       "      <td>2157.000000</td>\n",
       "      <td>2152.000000</td>\n",
       "      <td>2159.000000</td>\n",
       "      <td>2161.000000</td>\n",
       "      <td>2131.000000</td>\n",
       "      <td>2160.000000</td>\n",
       "      <td>2161.000000</td>\n",
       "    </tr>\n",
       "    <tr>\n",
       "      <th>mean</th>\n",
       "      <td>46.980971</td>\n",
       "      <td>7.715146</td>\n",
       "      <td>3.443956e+04</td>\n",
       "      <td>1.375058</td>\n",
       "      <td>5.968866</td>\n",
       "      <td>5.176471</td>\n",
       "      <td>5.627950</td>\n",
       "      <td>2.782262</td>\n",
       "      <td>5.129167</td>\n",
       "      <td>3.749653</td>\n",
       "    </tr>\n",
       "    <tr>\n",
       "      <th>std</th>\n",
       "      <td>18.474460</td>\n",
       "      <td>1.624622</td>\n",
       "      <td>5.786456e+05</td>\n",
       "      <td>0.484250</td>\n",
       "      <td>2.039922</td>\n",
       "      <td>2.142920</td>\n",
       "      <td>2.200681</td>\n",
       "      <td>0.879332</td>\n",
       "      <td>1.448348</td>\n",
       "      <td>2.021363</td>\n",
       "    </tr>\n",
       "    <tr>\n",
       "      <th>min</th>\n",
       "      <td>15.000000</td>\n",
       "      <td>0.000000</td>\n",
       "      <td>3.000000e+00</td>\n",
       "      <td>1.000000</td>\n",
       "      <td>0.000000</td>\n",
       "      <td>0.000000</td>\n",
       "      <td>0.000000</td>\n",
       "      <td>1.000000</td>\n",
       "      <td>1.000000</td>\n",
       "      <td>0.000000</td>\n",
       "    </tr>\n",
       "    <tr>\n",
       "      <th>25%</th>\n",
       "      <td>NaN</td>\n",
       "      <td>NaN</td>\n",
       "      <td>1.057000e+03</td>\n",
       "      <td>NaN</td>\n",
       "      <td>NaN</td>\n",
       "      <td>NaN</td>\n",
       "      <td>NaN</td>\n",
       "      <td>NaN</td>\n",
       "      <td>NaN</td>\n",
       "      <td>NaN</td>\n",
       "    </tr>\n",
       "    <tr>\n",
       "      <th>50%</th>\n",
       "      <td>NaN</td>\n",
       "      <td>NaN</td>\n",
       "      <td>1.773500e+03</td>\n",
       "      <td>NaN</td>\n",
       "      <td>NaN</td>\n",
       "      <td>NaN</td>\n",
       "      <td>NaN</td>\n",
       "      <td>NaN</td>\n",
       "      <td>NaN</td>\n",
       "      <td>NaN</td>\n",
       "    </tr>\n",
       "    <tr>\n",
       "      <th>75%</th>\n",
       "      <td>NaN</td>\n",
       "      <td>NaN</td>\n",
       "      <td>2.818500e+03</td>\n",
       "      <td>NaN</td>\n",
       "      <td>NaN</td>\n",
       "      <td>NaN</td>\n",
       "      <td>NaN</td>\n",
       "      <td>NaN</td>\n",
       "      <td>NaN</td>\n",
       "      <td>NaN</td>\n",
       "    </tr>\n",
       "    <tr>\n",
       "      <th>max</th>\n",
       "      <td>114.000000</td>\n",
       "      <td>10.000000</td>\n",
       "      <td>1.100097e+07</td>\n",
       "      <td>2.000000</td>\n",
       "      <td>10.000000</td>\n",
       "      <td>10.000000</td>\n",
       "      <td>10.000000</td>\n",
       "      <td>5.000000</td>\n",
       "      <td>7.000000</td>\n",
       "      <td>7.000000</td>\n",
       "    </tr>\n",
       "    <tr>\n",
       "      <th rowspan=\"16\" valign=\"top\">2.0</th>\n",
       "      <th rowspan=\"8\" valign=\"top\">2012</th>\n",
       "      <th>count</th>\n",
       "      <td>2082.000000</td>\n",
       "      <td>2131.000000</td>\n",
       "      <td>2.143000e+03</td>\n",
       "      <td>2138.000000</td>\n",
       "      <td>2132.000000</td>\n",
       "      <td>2136.000000</td>\n",
       "      <td>2135.000000</td>\n",
       "      <td>2119.000000</td>\n",
       "      <td>2137.000000</td>\n",
       "      <td>2140.000000</td>\n",
       "    </tr>\n",
       "    <tr>\n",
       "      <th>mean</th>\n",
       "      <td>48.086455</td>\n",
       "      <td>7.702487</td>\n",
       "      <td>4.464775e+04</td>\n",
       "      <td>1.399906</td>\n",
       "      <td>6.048311</td>\n",
       "      <td>5.486891</td>\n",
       "      <td>5.496487</td>\n",
       "      <td>2.700802</td>\n",
       "      <td>5.226954</td>\n",
       "      <td>3.944393</td>\n",
       "    </tr>\n",
       "    <tr>\n",
       "      <th>std</th>\n",
       "      <td>18.407926</td>\n",
       "      <td>1.806792</td>\n",
       "      <td>6.708246e+05</td>\n",
       "      <td>0.489993</td>\n",
       "      <td>2.142947</td>\n",
       "      <td>2.165044</td>\n",
       "      <td>2.263740</td>\n",
       "      <td>0.911657</td>\n",
       "      <td>1.491381</td>\n",
       "      <td>2.049457</td>\n",
       "    </tr>\n",
       "    <tr>\n",
       "      <th>min</th>\n",
       "      <td>15.000000</td>\n",
       "      <td>0.000000</td>\n",
       "      <td>1.000000e+00</td>\n",
       "      <td>1.000000</td>\n",
       "      <td>0.000000</td>\n",
       "      <td>0.000000</td>\n",
       "      <td>0.000000</td>\n",
       "      <td>1.000000</td>\n",
       "      <td>1.000000</td>\n",
       "      <td>0.000000</td>\n",
       "    </tr>\n",
       "    <tr>\n",
       "      <th>25%</th>\n",
       "      <td>NaN</td>\n",
       "      <td>NaN</td>\n",
       "      <td>1.048500e+03</td>\n",
       "      <td>NaN</td>\n",
       "      <td>NaN</td>\n",
       "      <td>NaN</td>\n",
       "      <td>NaN</td>\n",
       "      <td>NaN</td>\n",
       "      <td>NaN</td>\n",
       "      <td>NaN</td>\n",
       "    </tr>\n",
       "    <tr>\n",
       "      <th>50%</th>\n",
       "      <td>NaN</td>\n",
       "      <td>NaN</td>\n",
       "      <td>1.638000e+03</td>\n",
       "      <td>NaN</td>\n",
       "      <td>NaN</td>\n",
       "      <td>NaN</td>\n",
       "      <td>NaN</td>\n",
       "      <td>NaN</td>\n",
       "      <td>NaN</td>\n",
       "      <td>NaN</td>\n",
       "    </tr>\n",
       "    <tr>\n",
       "      <th>75%</th>\n",
       "      <td>NaN</td>\n",
       "      <td>NaN</td>\n",
       "      <td>2.688500e+03</td>\n",
       "      <td>NaN</td>\n",
       "      <td>NaN</td>\n",
       "      <td>NaN</td>\n",
       "      <td>NaN</td>\n",
       "      <td>NaN</td>\n",
       "      <td>NaN</td>\n",
       "      <td>NaN</td>\n",
       "    </tr>\n",
       "    <tr>\n",
       "      <th>max</th>\n",
       "      <td>97.000000</td>\n",
       "      <td>10.000000</td>\n",
       "      <td>1.100143e+07</td>\n",
       "      <td>2.000000</td>\n",
       "      <td>10.000000</td>\n",
       "      <td>10.000000</td>\n",
       "      <td>10.000000</td>\n",
       "      <td>5.000000</td>\n",
       "      <td>7.000000</td>\n",
       "      <td>7.000000</td>\n",
       "    </tr>\n",
       "    <tr>\n",
       "      <th rowspan=\"8\" valign=\"top\">2014</th>\n",
       "      <th>count</th>\n",
       "      <td>2072.000000</td>\n",
       "      <td>2118.000000</td>\n",
       "      <td>2.125000e+03</td>\n",
       "      <td>2120.000000</td>\n",
       "      <td>2116.000000</td>\n",
       "      <td>2118.000000</td>\n",
       "      <td>2122.000000</td>\n",
       "      <td>2108.000000</td>\n",
       "      <td>2121.000000</td>\n",
       "      <td>2124.000000</td>\n",
       "    </tr>\n",
       "    <tr>\n",
       "      <th>mean</th>\n",
       "      <td>47.758687</td>\n",
       "      <td>7.618036</td>\n",
       "      <td>4.492552e+04</td>\n",
       "      <td>1.408491</td>\n",
       "      <td>6.058129</td>\n",
       "      <td>5.324835</td>\n",
       "      <td>5.483977</td>\n",
       "      <td>2.732448</td>\n",
       "      <td>5.193777</td>\n",
       "      <td>3.840395</td>\n",
       "    </tr>\n",
       "    <tr>\n",
       "      <th>std</th>\n",
       "      <td>18.685914</td>\n",
       "      <td>1.784570</td>\n",
       "      <td>6.736572e+05</td>\n",
       "      <td>0.491671</td>\n",
       "      <td>2.209142</td>\n",
       "      <td>2.206885</td>\n",
       "      <td>2.266118</td>\n",
       "      <td>0.913200</td>\n",
       "      <td>1.419766</td>\n",
       "      <td>2.014887</td>\n",
       "    </tr>\n",
       "    <tr>\n",
       "      <th>min</th>\n",
       "      <td>15.000000</td>\n",
       "      <td>0.000000</td>\n",
       "      <td>1.000000e+00</td>\n",
       "      <td>1.000000</td>\n",
       "      <td>0.000000</td>\n",
       "      <td>0.000000</td>\n",
       "      <td>0.000000</td>\n",
       "      <td>1.000000</td>\n",
       "      <td>1.000000</td>\n",
       "      <td>0.000000</td>\n",
       "    </tr>\n",
       "    <tr>\n",
       "      <th>25%</th>\n",
       "      <td>NaN</td>\n",
       "      <td>NaN</td>\n",
       "      <td>1.045000e+03</td>\n",
       "      <td>NaN</td>\n",
       "      <td>NaN</td>\n",
       "      <td>NaN</td>\n",
       "      <td>NaN</td>\n",
       "      <td>NaN</td>\n",
       "      <td>NaN</td>\n",
       "      <td>NaN</td>\n",
       "    </tr>\n",
       "    <tr>\n",
       "      <th>50%</th>\n",
       "      <td>NaN</td>\n",
       "      <td>NaN</td>\n",
       "      <td>1.624000e+03</td>\n",
       "      <td>NaN</td>\n",
       "      <td>NaN</td>\n",
       "      <td>NaN</td>\n",
       "      <td>NaN</td>\n",
       "      <td>NaN</td>\n",
       "      <td>NaN</td>\n",
       "      <td>NaN</td>\n",
       "    </tr>\n",
       "    <tr>\n",
       "      <th>75%</th>\n",
       "      <td>NaN</td>\n",
       "      <td>NaN</td>\n",
       "      <td>2.670000e+03</td>\n",
       "      <td>NaN</td>\n",
       "      <td>NaN</td>\n",
       "      <td>NaN</td>\n",
       "      <td>NaN</td>\n",
       "      <td>NaN</td>\n",
       "      <td>NaN</td>\n",
       "      <td>NaN</td>\n",
       "    </tr>\n",
       "    <tr>\n",
       "      <th>max</th>\n",
       "      <td>101.000000</td>\n",
       "      <td>10.000000</td>\n",
       "      <td>1.100143e+07</td>\n",
       "      <td>2.000000</td>\n",
       "      <td>10.000000</td>\n",
       "      <td>10.000000</td>\n",
       "      <td>10.000000</td>\n",
       "      <td>5.000000</td>\n",
       "      <td>7.000000</td>\n",
       "      <td>7.000000</td>\n",
       "    </tr>\n",
       "  </tbody>\n",
       "</table>\n",
       "</div>"
      ],
      "text/plain": [
       "                        agea        happy          idno      partner  \\\n",
       "gndr year                                                              \n",
       "1.0  2012 count  2089.000000  2145.000000  2.154000e+03  2152.000000   \n",
       "          mean     46.965055     7.744522  3.447705e+04     1.353625   \n",
       "          std      17.969622     1.722329  5.797237e+05     0.478205   \n",
       "          min      15.000000     0.000000  1.000000e+01     1.000000   \n",
       "          25%            NaN          NaN  1.057250e+03          NaN   \n",
       "          50%            NaN          NaN  1.800000e+03          NaN   \n",
       "          75%            NaN          NaN  2.799750e+03          NaN   \n",
       "          max     103.000000    10.000000  1.100140e+07     2.000000   \n",
       "     2014 count  2102.000000  2159.000000  2.162000e+03  2157.000000   \n",
       "          mean     46.980971     7.715146  3.443956e+04     1.375058   \n",
       "          std      18.474460     1.624622  5.786456e+05     0.484250   \n",
       "          min      15.000000     0.000000  3.000000e+00     1.000000   \n",
       "          25%            NaN          NaN  1.057000e+03          NaN   \n",
       "          50%            NaN          NaN  1.773500e+03          NaN   \n",
       "          75%            NaN          NaN  2.818500e+03          NaN   \n",
       "          max     114.000000    10.000000  1.100097e+07     2.000000   \n",
       "2.0  2012 count  2082.000000  2131.000000  2.143000e+03  2138.000000   \n",
       "          mean     48.086455     7.702487  4.464775e+04     1.399906   \n",
       "          std      18.407926     1.806792  6.708246e+05     0.489993   \n",
       "          min      15.000000     0.000000  1.000000e+00     1.000000   \n",
       "          25%            NaN          NaN  1.048500e+03          NaN   \n",
       "          50%            NaN          NaN  1.638000e+03          NaN   \n",
       "          75%            NaN          NaN  2.688500e+03          NaN   \n",
       "          max      97.000000    10.000000  1.100143e+07     2.000000   \n",
       "     2014 count  2072.000000  2118.000000  2.125000e+03  2120.000000   \n",
       "          mean     47.758687     7.618036  4.492552e+04     1.408491   \n",
       "          std      18.685914     1.784570  6.736572e+05     0.491671   \n",
       "          min      15.000000     0.000000  1.000000e+00     1.000000   \n",
       "          25%            NaN          NaN  1.045000e+03          NaN   \n",
       "          50%            NaN          NaN  1.624000e+03          NaN   \n",
       "          75%            NaN          NaN  2.670000e+03          NaN   \n",
       "          max     101.000000    10.000000  1.100143e+07     2.000000   \n",
       "\n",
       "                     pplfair       pplhlp      ppltrst       sclact  \\\n",
       "gndr year                                                             \n",
       "1.0  2012 count  2145.000000  2146.000000  2152.000000  2132.000000   \n",
       "          mean      5.947786     5.291240     5.629182     2.779550   \n",
       "          std       2.128799     2.173261     2.206040     0.917116   \n",
       "          min       0.000000     0.000000     0.000000     1.000000   \n",
       "          25%            NaN          NaN          NaN          NaN   \n",
       "          50%            NaN          NaN          NaN          NaN   \n",
       "          75%            NaN          NaN          NaN          NaN   \n",
       "          max      10.000000    10.000000    10.000000     5.000000   \n",
       "     2014 count  2152.000000  2159.000000  2161.000000  2131.000000   \n",
       "          mean      5.968866     5.176471     5.627950     2.782262   \n",
       "          std       2.039922     2.142920     2.200681     0.879332   \n",
       "          min       0.000000     0.000000     0.000000     1.000000   \n",
       "          25%            NaN          NaN          NaN          NaN   \n",
       "          50%            NaN          NaN          NaN          NaN   \n",
       "          75%            NaN          NaN          NaN          NaN   \n",
       "          max      10.000000    10.000000    10.000000     5.000000   \n",
       "2.0  2012 count  2132.000000  2136.000000  2135.000000  2119.000000   \n",
       "          mean      6.048311     5.486891     5.496487     2.700802   \n",
       "          std       2.142947     2.165044     2.263740     0.911657   \n",
       "          min       0.000000     0.000000     0.000000     1.000000   \n",
       "          25%            NaN          NaN          NaN          NaN   \n",
       "          50%            NaN          NaN          NaN          NaN   \n",
       "          75%            NaN          NaN          NaN          NaN   \n",
       "          max      10.000000    10.000000    10.000000     5.000000   \n",
       "     2014 count  2116.000000  2118.000000  2122.000000  2108.000000   \n",
       "          mean      6.058129     5.324835     5.483977     2.732448   \n",
       "          std       2.209142     2.206885     2.266118     0.913200   \n",
       "          min       0.000000     0.000000     0.000000     1.000000   \n",
       "          25%            NaN          NaN          NaN          NaN   \n",
       "          50%            NaN          NaN          NaN          NaN   \n",
       "          75%            NaN          NaN          NaN          NaN   \n",
       "          max      10.000000    10.000000    10.000000     5.000000   \n",
       "\n",
       "                     sclmeet        tvtot  \n",
       "gndr year                                  \n",
       "1.0  2012 count  2151.000000  2151.000000  \n",
       "          mean      5.228266     3.901906  \n",
       "          std       1.466672     1.983690  \n",
       "          min       1.000000     0.000000  \n",
       "          25%            NaN          NaN  \n",
       "          50%            NaN          NaN  \n",
       "          75%            NaN          NaN  \n",
       "          max       7.000000     7.000000  \n",
       "     2014 count  2160.000000  2161.000000  \n",
       "          mean      5.129167     3.749653  \n",
       "          std       1.448348     2.021363  \n",
       "          min       1.000000     0.000000  \n",
       "          25%            NaN          NaN  \n",
       "          50%            NaN          NaN  \n",
       "          75%            NaN          NaN  \n",
       "          max       7.000000     7.000000  \n",
       "2.0  2012 count  2137.000000  2140.000000  \n",
       "          mean      5.226954     3.944393  \n",
       "          std       1.491381     2.049457  \n",
       "          min       1.000000     0.000000  \n",
       "          25%            NaN          NaN  \n",
       "          50%            NaN          NaN  \n",
       "          75%            NaN          NaN  \n",
       "          max       7.000000     7.000000  \n",
       "     2014 count  2121.000000  2124.000000  \n",
       "          mean      5.193777     3.840395  \n",
       "          std       1.419766     2.014887  \n",
       "          min       1.000000     0.000000  \n",
       "          25%            NaN          NaN  \n",
       "          50%            NaN          NaN  \n",
       "          75%            NaN          NaN  \n",
       "          max       7.000000     7.000000  "
      ]
     },
     "execution_count": 33,
     "metadata": {},
     "output_type": "execute_result"
    }
   ],
   "source": [
    "df_tv = ess_data.groupby(['gndr','year'])\n",
    "df_tv.describe()"
   ]
  },
  {
   "cell_type": "markdown",
   "metadata": {},
   "source": [
    "We dont see difference in watching tv among men and women in these 2 years"
   ]
  },
  {
   "cell_type": "markdown",
   "metadata": {},
   "source": [
    "## 4. Who was more likely to believe people were fair in 2012, people living with a partner or people living alone?"
   ]
  },
  {
   "cell_type": "code",
   "execution_count": 34,
   "metadata": {
    "collapsed": false
   },
   "outputs": [
    {
     "data": {
      "image/png": "[encoded data removed]",
      "text/plain": [
       "<matplotlib.figure.Figure at 0x1e707a05b38>"
      ]
     },
     "metadata": {},
     "output_type": "display_data"
    }
   ],
   "source": [
    "lone_df = ess_data.query('year == 2012').query('partner == 1.0')\n",
    "partner_df = ess_data.query('year == 2012').query('partner == 2.0')\n",
    "sns.boxplot(x=\"year\", y=\"pplfair\", hue=\"partner\", data=ess_data.query('year == 2012'))\n",
    "sns.plt.title('Fairness of Others Survey Results for those livng with and Without significant other.')\n",
    "plt.show()"
   ]
  },
  {
   "cell_type": "code",
   "execution_count": 35,
   "metadata": {
    "collapsed": false
   },
   "outputs": [
    {
     "name": "stdout",
     "output_type": "stream",
     "text": [
      "2674\n",
      "1616\n"
     ]
    },
    {
     "data": {
      "text/plain": [
       "KruskalResult(statistic=13.739649374653519, pvalue=0.00020997468964373384)"
      ]
     },
     "execution_count": 35,
     "metadata": {},
     "output_type": "execute_result"
    }
   ],
   "source": [
    "print(len(lone_df.pplfair))\n",
    "print(len(partner_df.pplfair))\n",
    "stats.kruskal(lone_df.pplfair, partner_df.pplfair, nan_policy='omit')"
   ]
  },
  {
   "cell_type": "markdown",
   "metadata": {},
   "source": [
    "## 5. Pick three or four of the countries in the sample and compare how often people met socially in 2014. Are there differences, and if so, which countries stand out?"
   ]
  },
  {
   "cell_type": "code",
   "execution_count": 36,
   "metadata": {
    "collapsed": false
   },
   "outputs": [
    {
     "data": {
      "image/png": "[encoded data removed]",
      "text/plain": [
       "<matplotlib.figure.Figure at 0x1e7078b70f0>"
      ]
     },
     "metadata": {},
     "output_type": "display_data"
    }
   ],
   "source": [
    "yr_2014 = ess_data.query('year == 2014')\n",
    "sns.boxplot(x=\"cntry\", y=\"sclmeet\", data=yr_2014)\n",
    "sns.plt.title('Social meet result')\n",
    "plt.show()"
   ]
  },
  {
   "cell_type": "code",
   "execution_count": 37,
   "metadata": {
    "collapsed": false
   },
   "outputs": [
    {
     "name": "stdout",
     "output_type": "stream",
     "text": [
      "Median value for the Norway is : 6\n",
      "Median value for Sweden is : 6\n",
      "Median value for Germany is : 4\n",
      "\n"
     ]
    }
   ],
   "source": [
    "no = ess_data.query('year == 2014').query('cntry == \"NO\"').sclmeet\n",
    "se = ess_data.query('year == 2014').query('cntry == \"SE\"').sclmeet\n",
    "de = ess_data.query('year == 2014').query('cntry == \"DE\"').sclmeet\n",
    "print('Median value for the Norway is : %d' % (no.median()))\n",
    "print('Median value for Sweden is : %d' % (se.median()))\n",
    "print('Median value for Germany is : %d\\n' % (de.median()))"
   ]
  },
  {
   "cell_type": "code",
   "execution_count": 38,
   "metadata": {
    "collapsed": false
   },
   "outputs": [
    {
     "data": {
      "text/plain": [
       "KruskalResult(statistic=13.690159503963239, pvalue=0.0010646813228366533)"
      ]
     },
     "execution_count": 38,
     "metadata": {},
     "output_type": "execute_result"
    }
   ],
   "source": [
    "\n",
    "stats.kruskal(no, se, de, nan_policy='omit')"
   ]
  },
  {
   "cell_type": "markdown",
   "metadata": {},
   "source": [
    "## 6. Pick three or four of the countries in the sample and compare how often people took part in social activities, relative to others their age, in 2014. Are there differences, and if so, which countries stand out?"
   ]
  },
  {
   "cell_type": "code",
   "execution_count": 39,
   "metadata": {
    "collapsed": false
   },
   "outputs": [
    {
     "name": "stdout",
     "output_type": "stream",
     "text": [
      "count    718.000000\n",
      "mean      46.707521\n",
      "std       18.529955\n",
      "min       15.000000\n",
      "25%             NaN\n",
      "50%             NaN\n",
      "75%             NaN\n",
      "max       94.000000\n",
      "Name: agea, dtype: float64\n",
      "count    878.000000\n",
      "mean      49.403189\n",
      "std       19.829526\n",
      "min       15.000000\n",
      "25%             NaN\n",
      "50%             NaN\n",
      "75%             NaN\n",
      "max      114.000000\n",
      "Name: agea, dtype: float64\n",
      "count    14.000000\n",
      "mean     59.714286\n",
      "std      15.162852\n",
      "min      36.000000\n",
      "25%      49.750000\n",
      "50%      56.500000\n",
      "75%      66.500000\n",
      "max      89.000000\n",
      "Name: agea, dtype: float64\n"
     ]
    },
    {
     "name": "stderr",
     "output_type": "stream",
     "text": [
      "C:\\Users\\NutanMandale\\Anaconda3\\lib\\site-packages\\numpy\\lib\\function_base.py:3834: RuntimeWarning: Invalid value encountered in percentile\n",
      "  RuntimeWarning)\n"
     ]
    }
   ],
   "source": [
    "print(ess_data.query('year == 2014').query('cntry == \"NO\"').agea.describe())\n",
    "print(ess_data.query('year == 2014').query('cntry == \"SE\"').agea.describe())\n",
    "print(ess_data.query('year == 2014').query('cntry == \"DE\"').agea.describe())"
   ]
  },
  {
   "cell_type": "code",
   "execution_count": 40,
   "metadata": {
    "collapsed": false
   },
   "outputs": [
    {
     "data": {
      "image/png": "[encoded data removed]",
      "text/plain": [
       "<matplotlib.figure.Figure at 0x1e70615d748>"
      ]
     },
     "metadata": {},
     "output_type": "display_data"
    }
   ],
   "source": [
    "sns.boxplot(x=\"cntry\", y=\"sclact\", data=ess_data)\n",
    "sns.plt.title('Social activities - Survey Results')\n",
    "plt.show()"
   ]
  },
  {
   "cell_type": "markdown",
   "metadata": {},
   "source": [
    "All the countries have the similar social ativities"
   ]
  }
 ],
 "metadata": {
  "anaconda-cloud": {},
  "kernelspec": {
   "display_name": "Python [default]",
   "language": "python",
   "name": "python3"
  },
  "language_info": {
   "codemirror_mode": {
    "name": "ipython",
    "version": 3
   },
   "file_extension": ".py",
   "mimetype": "text/x-python",
   "name": "python",
   "nbconvert_exporter": "python",
   "pygments_lexer": "ipython3",
   "version": "3.5.2"
  }
 },
 "nbformat": 4,
 "nbformat_minor": 1
}
